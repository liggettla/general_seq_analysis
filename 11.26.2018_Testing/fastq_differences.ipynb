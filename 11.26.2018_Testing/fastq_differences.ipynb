{
 "cells": [
  {
   "cell_type": "markdown",
   "metadata": {},
   "source": [
    "### Goal\n",
    "The goal here is to understand what might have gone wrong with the sequencing  \n",
    "run on 10.8.2018."
   ]
  },
  {
   "cell_type": "code",
   "execution_count": 1,
   "metadata": {},
   "outputs": [],
   "source": [
    "%reload_ext autoreload\n",
    "%autoreload 2"
   ]
  },
  {
   "cell_type": "code",
   "execution_count": 3,
   "metadata": {},
   "outputs": [
    {
     "name": "stdout",
     "output_type": "stream",
     "text": [
      "Elapsed fast (after compilation) = 7.581710815429688e-05\n",
      "Elapsed slow (after compilation) = 3.4396097660064697\n",
      "Fast way is 45367 times faster\n"
     ]
    }
   ],
   "source": [
    "from util import parallel, nonparallel\n",
    "import time\n",
    "\n",
    "#parallel()\n",
    "start = time.time()\n",
    "parallel()\n",
    "end = time.time()\n",
    "print(\"Elapsed fast (after compilation) = %s\" % (end - start))\n",
    "fast = end - start\n",
    "start = time.time()\n",
    "nonparallel()\n",
    "end = time.time()\n",
    "print(\"Elapsed slow (after compilation) = %s\" % (end - start))\n",
    "slow = end - start\n",
    "print('Fast way is %i times faster' % (slow / fast))\n"
   ]
  },
  {
   "cell_type": "code",
   "execution_count": 12,
   "metadata": {},
   "outputs": [
    {
     "name": "stdout",
     "output_type": "stream",
     "text": [
      "Elapsed fast (after compilation) = 0.00010132789611816406\n",
      "Elapsed slow (after compilation) = 0.0013248920440673828\n",
      "Fast way is 13 times faster\n"
     ]
    }
   ],
   "source": [
    "from util import go_slow, go_fast\n",
    "import time\n",
    "\n",
    "#parallel()\n",
    "start = time.time()\n",
    "go_fast(10)\n",
    "end = time.time()\n",
    "print(\"Elapsed fast (after compilation) = %s\" % (end - start))\n",
    "fast = end - start\n",
    "start = time.time()\n",
    "go_slow(10)\n",
    "end = time.time()\n",
    "print(\"Elapsed slow (after compilation) = %s\" % (end - start))\n",
    "slow = end - start\n",
    "print('Fast way is %i times faster' % (slow / fast))"
   ]
  },
  {
   "cell_type": "markdown",
   "metadata": {},
   "source": [
    "### Read lengths of Fastq"
   ]
  },
  {
   "cell_type": "code",
   "execution_count": 45,
   "metadata": {},
   "outputs": [],
   "source": [
    "from util import read_lengths\n",
    "from time import time\n",
    "from numba import jit, prange, njit\n",
    "\n",
    "file1 = 'samples/208.fastq'\n",
    "file2 = 'samples/245.fastq'\n",
    "\n",
    "fastqs = {'208':file1, '245':file2}\n",
    "limit = 200 # number of sequences to analyze\n",
    "\n",
    "lengths = read_lengths(fastqs, limit)\n",
    "df = pd.melt(pd.DataFrame(lengths)).rename(columns={'variable':'Sample','value':'Length'})"
   ]
  },
  {
   "cell_type": "code",
   "execution_count": 58,
   "metadata": {},
   "outputs": [
    {
     "data": {
      "image/png": "[encoded data removed]",
      "text/plain": [
       "<Figure size 432x288 with 1 Axes>"
      ]
     },
     "metadata": {
      "needs_background": "light"
     },
     "output_type": "display_data"
    }
   ],
   "source": [
    "import pandas as pd\n",
    "import seaborn as sns\n",
    "import matplotlib.pyplot as plt\n",
    "\n",
    "sns.set_context(\"talk\")\n",
    "plt.figure()\n",
    "ax = sns.boxplot(x='Sample', y='Length', data=df)\n",
    "sns.despine(offset=10, trim=True, bottom=True)\n",
    "plt.tick_params(bottom=False)"
   ]
  },
  {
   "cell_type": "code",
   "execution_count": 73,
   "metadata": {},
   "outputs": [],
   "source": [
    "from util import read_lengths\n",
    "from time import time\n",
    "from numba import jit, prange, njit\n",
    "\n",
    "file1 = 'samples/155_finalOutput.fastq'\n",
    "file2 = 'samples/245_finalOutput.fastq'\n",
    "\n",
    "fastqs = {'Old':file1, 'New':file2}\n",
    "limit = 84 # number of sequences to analyze\n",
    "\n",
    "lengths = read_lengths(fastqs, limit)\n",
    "df = pd.melt(pd.DataFrame(lengths)).rename(columns={'variable':'Sample','value':'Length'})"
   ]
  },
  {
   "cell_type": "code",
   "execution_count": 75,
   "metadata": {},
   "outputs": [
    {
     "data": {
      "image/png": "[encoded data removed]",
      "text/plain": [
       "<Figure size 432x288 with 1 Axes>"
      ]
     },
     "metadata": {
      "needs_background": "light"
     },
     "output_type": "display_data"
    }
   ],
   "source": [
    "import pandas as pd\n",
    "import seaborn as sns\n",
    "import matplotlib.pyplot as plt\n",
    "\n",
    "sns.set_context(\"talk\")\n",
    "sns.set_palette(\"pastel\")\n",
    "plt.figure()\n",
    "ax = sns.boxplot(x='Sample', y='Length', data=df)\n",
    "sns.despine(offset=10, trim=True, bottom=True)\n",
    "plt.tick_params(bottom=False)"
   ]
  },
  {
   "cell_type": "code",
   "execution_count": null,
   "metadata": {},
   "outputs": [],
   "source": []
  }
 ],
 "metadata": {
  "kernelspec": {
   "display_name": "Python 3",
   "language": "python",
   "name": "python3"
  },
  "language_info": {
   "codemirror_mode": {
    "name": "ipython",
    "version": 3
   },
   "file_extension": ".py",
   "mimetype": "text/x-python",
   "name": "python",
   "nbconvert_exporter": "python",
   "pygments_lexer": "ipython3",
   "version": "3.7.0"
  }
 },
 "nbformat": 4,
 "nbformat_minor": 2
}
